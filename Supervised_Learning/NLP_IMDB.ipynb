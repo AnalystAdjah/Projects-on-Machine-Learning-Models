{
 "cells": [
  {
   "cell_type": "markdown",
   "id": "e2a3f81d-18dc-4836-95a3-25725afa5b02",
   "metadata": {},
   "source": [
    "# CUSTOMER SENTIMENT ANALYSIS & PREDICTION\n",
    "\n",
    "## Using Supervised Machine Learning (Natural Processing Language)"
   ]
  },
  {
   "cell_type": "code",
   "execution_count": 1,
   "id": "bfed3da6-10af-4770-ba46-ce963fb164eb",
   "metadata": {},
   "outputs": [],
   "source": [
    "#!pip install contractions"
   ]
  },
  {
   "cell_type": "code",
   "execution_count": 2,
   "id": "86f2a2ad-e082-4ff0-94df-5addae2fd4b4",
   "metadata": {},
   "outputs": [
    {
     "name": "stderr",
     "output_type": "stream",
     "text": [
      "[nltk_data] Downloading package stopwords to\n",
      "[nltk_data]     C:\\Users\\User\\AppData\\Roaming\\nltk_data...\n",
      "[nltk_data]   Package stopwords is already up-to-date!\n",
      "[nltk_data] Downloading package punkt to\n",
      "[nltk_data]     C:\\Users\\User\\AppData\\Roaming\\nltk_data...\n",
      "[nltk_data]   Package punkt is already up-to-date!\n"
     ]
    },
    {
     "data": {
      "text/plain": [
       "True"
      ]
     },
     "execution_count": 2,
     "metadata": {},
     "output_type": "execute_result"
    }
   ],
   "source": [
    "import pandas as pd\n",
    "import random\n",
    "import nltk\n",
    "import contractions\n",
    "from nltk.stem.porter import PorterStemmer\n",
    "from nltk.corpus import stopwords\n",
    "from nltk.tokenize import word_tokenize\n",
    "nltk.download('stopwords')\n",
    "import re\n",
    "import nltk\n",
    "nltk.download('punkt')"
   ]
  },
  {
   "cell_type": "code",
   "execution_count": 3,
   "id": "18f16836-b3f6-4fb7-9c8d-ddae870962c6",
   "metadata": {},
   "outputs": [
    {
     "data": {
      "text/html": [
       "<div>\n",
       "<style scoped>\n",
       "    .dataframe tbody tr th:only-of-type {\n",
       "        vertical-align: middle;\n",
       "    }\n",
       "\n",
       "    .dataframe tbody tr th {\n",
       "        vertical-align: top;\n",
       "    }\n",
       "\n",
       "    .dataframe thead th {\n",
       "        text-align: right;\n",
       "    }\n",
       "</style>\n",
       "<table border=\"1\" class=\"dataframe\">\n",
       "  <thead>\n",
       "    <tr style=\"text-align: right;\">\n",
       "      <th></th>\n",
       "      <th>review</th>\n",
       "      <th>sentiment</th>\n",
       "    </tr>\n",
       "  </thead>\n",
       "  <tbody>\n",
       "    <tr>\n",
       "      <th>0</th>\n",
       "      <td>One of the other reviewers has mentioned that ...</td>\n",
       "      <td>positive</td>\n",
       "    </tr>\n",
       "    <tr>\n",
       "      <th>1</th>\n",
       "      <td>A wonderful little production. &lt;br /&gt;&lt;br /&gt;The...</td>\n",
       "      <td>positive</td>\n",
       "    </tr>\n",
       "    <tr>\n",
       "      <th>2</th>\n",
       "      <td>I thought this was a wonderful way to spend ti...</td>\n",
       "      <td>positive</td>\n",
       "    </tr>\n",
       "    <tr>\n",
       "      <th>3</th>\n",
       "      <td>Basically there's a family where a little boy ...</td>\n",
       "      <td>negative</td>\n",
       "    </tr>\n",
       "    <tr>\n",
       "      <th>4</th>\n",
       "      <td>Petter Mattei's \"Love in the Time of Money\" is...</td>\n",
       "      <td>positive</td>\n",
       "    </tr>\n",
       "  </tbody>\n",
       "</table>\n",
       "</div>"
      ],
      "text/plain": [
       "                                              review sentiment\n",
       "0  One of the other reviewers has mentioned that ...  positive\n",
       "1  A wonderful little production. <br /><br />The...  positive\n",
       "2  I thought this was a wonderful way to spend ti...  positive\n",
       "3  Basically there's a family where a little boy ...  negative\n",
       "4  Petter Mattei's \"Love in the Time of Money\" is...  positive"
      ]
     },
     "execution_count": 3,
     "metadata": {},
     "output_type": "execute_result"
    }
   ],
   "source": [
    "# Loading and viewing the first 5 rows of the data\n",
    "df = pd.read_csv('IMDB Dataset.csv')\n",
    "df.head()"
   ]
  },
  {
   "cell_type": "code",
   "execution_count": 4,
   "id": "0cc72a53-88d2-41f8-819c-16132f6d906d",
   "metadata": {},
   "outputs": [
    {
     "data": {
      "text/plain": [
       "review       0\n",
       "sentiment    0\n",
       "dtype: int64"
      ]
     },
     "execution_count": 4,
     "metadata": {},
     "output_type": "execute_result"
    }
   ],
   "source": [
    "# Checking for NaN values\n",
    "df.isna().sum()"
   ]
  },
  {
   "cell_type": "code",
   "execution_count": 5,
   "id": "e750bf4b-191b-485e-b856-6042bf402a10",
   "metadata": {},
   "outputs": [
    {
     "data": {
      "text/plain": [
       "418"
      ]
     },
     "execution_count": 5,
     "metadata": {},
     "output_type": "execute_result"
    }
   ],
   "source": [
    "# Checking for duplicates\n",
    "df.duplicated().sum()"
   ]
  },
  {
   "cell_type": "code",
   "execution_count": 6,
   "id": "7ed43ff8-3c7d-45f4-9b67-ba01b6d2f1df",
   "metadata": {},
   "outputs": [],
   "source": [
    "# dropping the duplicated rows\n",
    "df = df.drop_duplicates()"
   ]
  },
  {
   "cell_type": "code",
   "execution_count": 7,
   "id": "a3569106-6aac-40a2-864b-29f00213abd5",
   "metadata": {},
   "outputs": [
    {
     "data": {
      "text/plain": [
       "0"
      ]
     },
     "execution_count": 7,
     "metadata": {},
     "output_type": "execute_result"
    }
   ],
   "source": [
    "# Rechecking for duplicates\n",
    "df.duplicated().sum()"
   ]
  },
  {
   "cell_type": "code",
   "execution_count": 8,
   "id": "d0fe24c3-fa7c-4870-b2d0-04e7c1f8fe46",
   "metadata": {},
   "outputs": [
    {
     "data": {
      "text/plain": [
       "array(['positive', 'negative'], dtype=object)"
      ]
     },
     "execution_count": 8,
     "metadata": {},
     "output_type": "execute_result"
    }
   ],
   "source": [
    "# Viewing the number of classes in the dataset\n",
    "df.sentiment.unique()"
   ]
  },
  {
   "cell_type": "code",
   "execution_count": 9,
   "id": "061b0a74-544f-4f8a-bb3b-114be5e6bb7a",
   "metadata": {},
   "outputs": [
    {
     "data": {
      "text/plain": [
       "sentiment\n",
       "positive    50.187568\n",
       "negative    49.812432\n",
       "Name: proportion, dtype: float64"
      ]
     },
     "execution_count": 9,
     "metadata": {},
     "output_type": "execute_result"
    }
   ],
   "source": [
    "# Checking the class balance\n",
    "df.sentiment.value_counts(normalize=True)*100"
   ]
  },
  {
   "cell_type": "markdown",
   "id": "55dab77d-1034-4634-974a-eb46af31d3f0",
   "metadata": {},
   "source": [
    "## Data Cleaning"
   ]
  },
  {
   "cell_type": "code",
   "execution_count": 11,
   "id": "e22c14ca-458c-4d47-99d0-4084a41d326f",
   "metadata": {},
   "outputs": [
    {
     "data": {
      "text/html": [
       "<div>\n",
       "<style scoped>\n",
       "    .dataframe tbody tr th:only-of-type {\n",
       "        vertical-align: middle;\n",
       "    }\n",
       "\n",
       "    .dataframe tbody tr th {\n",
       "        vertical-align: top;\n",
       "    }\n",
       "\n",
       "    .dataframe thead th {\n",
       "        text-align: right;\n",
       "    }\n",
       "</style>\n",
       "<table border=\"1\" class=\"dataframe\">\n",
       "  <thead>\n",
       "    <tr style=\"text-align: right;\">\n",
       "      <th></th>\n",
       "      <th>review</th>\n",
       "      <th>sentiment</th>\n",
       "      <th>word_counts</th>\n",
       "    </tr>\n",
       "  </thead>\n",
       "  <tbody>\n",
       "    <tr>\n",
       "      <th>0</th>\n",
       "      <td>One of the other reviewers has mentioned that ...</td>\n",
       "      <td>positive</td>\n",
       "      <td>307</td>\n",
       "    </tr>\n",
       "    <tr>\n",
       "      <th>1</th>\n",
       "      <td>A wonderful little production. &lt;br /&gt;&lt;br /&gt;The...</td>\n",
       "      <td>positive</td>\n",
       "      <td>162</td>\n",
       "    </tr>\n",
       "    <tr>\n",
       "      <th>2</th>\n",
       "      <td>I thought this was a wonderful way to spend ti...</td>\n",
       "      <td>positive</td>\n",
       "      <td>166</td>\n",
       "    </tr>\n",
       "    <tr>\n",
       "      <th>3</th>\n",
       "      <td>Basically there's a family where a little boy ...</td>\n",
       "      <td>negative</td>\n",
       "      <td>138</td>\n",
       "    </tr>\n",
       "    <tr>\n",
       "      <th>4</th>\n",
       "      <td>Petter Mattei's \"Love in the Time of Money\" is...</td>\n",
       "      <td>positive</td>\n",
       "      <td>230</td>\n",
       "    </tr>\n",
       "  </tbody>\n",
       "</table>\n",
       "</div>"
      ],
      "text/plain": [
       "                                              review sentiment  word_counts\n",
       "0  One of the other reviewers has mentioned that ...  positive          307\n",
       "1  A wonderful little production. <br /><br />The...  positive          162\n",
       "2  I thought this was a wonderful way to spend ti...  positive          166\n",
       "3  Basically there's a family where a little boy ...  negative          138\n",
       "4  Petter Mattei's \"Love in the Time of Money\" is...  positive          230"
      ]
     },
     "execution_count": 11,
     "metadata": {},
     "output_type": "execute_result"
    }
   ],
   "source": [
    "# Creating the word count column\n",
    "df['word_counts'] = df['review'].apply(lambda x:len(x.split()))\n",
    "df.head()"
   ]
  },
  {
   "cell_type": "code",
   "execution_count": 12,
   "id": "b6102371-2500-444b-91a7-f68c4374aad0",
   "metadata": {},
   "outputs": [
    {
     "name": "stderr",
     "output_type": "stream",
     "text": [
      "C:\\Users\\User\\AppData\\Local\\Temp\\ipykernel_2744\\4274409539.py:7: FutureWarning: Downcasting behavior in `replace` is deprecated and will be removed in a future version. To retain the old behavior, explicitly call `result.infer_objects(copy=False)`. To opt-in to the future behavior, set `pd.set_option('future.no_silent_downcasting', True)`\n",
      "  df['sentiment'] = df['sentiment'].replace(sentiment_mapping)\n"
     ]
    },
    {
     "data": {
      "text/html": [
       "<div>\n",
       "<style scoped>\n",
       "    .dataframe tbody tr th:only-of-type {\n",
       "        vertical-align: middle;\n",
       "    }\n",
       "\n",
       "    .dataframe tbody tr th {\n",
       "        vertical-align: top;\n",
       "    }\n",
       "\n",
       "    .dataframe thead th {\n",
       "        text-align: right;\n",
       "    }\n",
       "</style>\n",
       "<table border=\"1\" class=\"dataframe\">\n",
       "  <thead>\n",
       "    <tr style=\"text-align: right;\">\n",
       "      <th></th>\n",
       "      <th>review</th>\n",
       "      <th>sentiment</th>\n",
       "      <th>word_counts</th>\n",
       "    </tr>\n",
       "  </thead>\n",
       "  <tbody>\n",
       "    <tr>\n",
       "      <th>0</th>\n",
       "      <td>One of the other reviewers has mentioned that ...</td>\n",
       "      <td>0</td>\n",
       "      <td>307</td>\n",
       "    </tr>\n",
       "    <tr>\n",
       "      <th>1</th>\n",
       "      <td>A wonderful little production. &lt;br /&gt;&lt;br /&gt;The...</td>\n",
       "      <td>0</td>\n",
       "      <td>162</td>\n",
       "    </tr>\n",
       "    <tr>\n",
       "      <th>2</th>\n",
       "      <td>I thought this was a wonderful way to spend ti...</td>\n",
       "      <td>0</td>\n",
       "      <td>166</td>\n",
       "    </tr>\n",
       "    <tr>\n",
       "      <th>3</th>\n",
       "      <td>Basically there's a family where a little boy ...</td>\n",
       "      <td>1</td>\n",
       "      <td>138</td>\n",
       "    </tr>\n",
       "    <tr>\n",
       "      <th>4</th>\n",
       "      <td>Petter Mattei's \"Love in the Time of Money\" is...</td>\n",
       "      <td>0</td>\n",
       "      <td>230</td>\n",
       "    </tr>\n",
       "  </tbody>\n",
       "</table>\n",
       "</div>"
      ],
      "text/plain": [
       "                                              review  sentiment  word_counts\n",
       "0  One of the other reviewers has mentioned that ...          0          307\n",
       "1  A wonderful little production. <br /><br />The...          0          162\n",
       "2  I thought this was a wonderful way to spend ti...          0          166\n",
       "3  Basically there's a family where a little boy ...          1          138\n",
       "4  Petter Mattei's \"Love in the Time of Money\" is...          0          230"
      ]
     },
     "execution_count": 12,
     "metadata": {},
     "output_type": "execute_result"
    }
   ],
   "source": [
    "# Converting the sentiment column into numeric \n",
    "sentiment_mapping = {\n",
    "    'positive':0,\n",
    "    'negative':1\n",
    "}\n",
    "\n",
    "df['sentiment'] = df['sentiment'].replace(sentiment_mapping)\n",
    "df.head()"
   ]
  },
  {
   "cell_type": "code",
   "execution_count": 13,
   "id": "f394d652-68c7-47fc-a876-d7221474fc29",
   "metadata": {},
   "outputs": [
    {
     "name": "stdout",
     "output_type": "stream",
     "text": [
      "Sentiment: 1 (Negative)\n",
      "Review:\n",
      "Circus could have been so much better if they had reduced the number of twists and developed each better the film features a very gifted cast that mostly perform well , however it totally loses the audience basically everyone is back stabbing everyone else and not back stabbing them at the same time because they are backstabbing someone else and working with .... did i lose you? well the film is even more confusing clearly written by a first timer writer , it has some redeeming qualities though in the acting especially Famke Janssen shines as Lily but sadly gets a lot of USELESS screen time just standing there doing nothing.....the dialogue is a bit cheesy and the accents sometimes irritating but its still worth watching if you're a fan of any of the actors especially John and Famke who get the most screen time just remember to watch it with a notebook so you can write down who is double crossing who every second....\n",
      "\n",
      "-------\n",
      "\n",
      "Sentiment: 0 (Positive)\n",
      "Review:\n",
      "The legend of Andrei Konchalovsky's towering 4 and a half hour poem to Siberia is not to begin at once, because it must hold back for space, because it takes its time in roundabout explorations of half-remembered childhood memories in a turn-of-the-century backwoods village, yet the movie goes on picking up steam building in emotional resonance as though even the sounds and images which compose it become imbued by sheer association with their subject matter with that quality of fierce tireless quiet dignity that characterizes the Soviet working spirit. Konchalovsky celebrates Soviet collectivity but in an almost revisionist way to paeans like Soy Cuba and Invincible the mood turns somber and reflective. News of the revolution reach the secluded Siberian village through the grapevine. The fruits of its labor reach it only when a world war calls for the young men to enlist. Through all this, Konchalovksy zeroes in on the individual, with care and affection to examine the bitter longing and regret of the woman who waited 6 years after the war for a fiancé who never came back, waited long enough to go out and become a barmaid in a ship with velvet couches and which she quit years later to come back to her village to care for an aging uncle who killed the fiancé's father with an axe, the irreverent folly of the fiancé who came back from the war a hero 20 years too late, came back not for the sake of the girl he left behind but to drill oil for the motherland, the despair and resignation of the middle-aged Regional Party Leader who comes back to his small Siberian village with the sole purpose of blotting it out of the map to build a power plant. The movie segues from decade to decade from the 10's to the 80's with amazing newsreel footage trailing Soviet history from the revolution to war famine and the titanic technological achievements of an empire (terrific visuals here! all kinetic violence and skewed angles and flickering cramped shots of crowds and faces) but the actual movie focuses on the individual, on triumphs and follies small and big. By the second half a sense of bittersweet fatalism creeps in; of broken lives that never reached fulfillment choking with regret and yearning. \"It can't matter\", seems like the world is saying, to which Konchalovksy answers \"it must matter\" because the protagonists keep on trying for redemption.<br /><br />Yet behind this saga of 'man against landscape' something seems to hover, shadowy, almost substanceless, like the Eternal Old Man hermit who appears in every segment to guide or repudiate the protagonists, sometimes a mere spectactor, sometimes the enigmatic sage; a little behind and above all the other straightforward and logical incomprehensible ultimatums challenges and affirmations of the human characters, something invisible seems to lurk. Ghosts of the fathers appearing in sepia dreams, repeated shots of a star gleaming in the nightsky, a curious bear, indeed the Eternal Old Man himself; Konchalovksy calls for awe and reverence before a mystical land of some other order. In its treatment of a small backwoods community struggling against nature progress and time and in the ways it learns to deal with them, often funny bizarre and tragic at the same time, and in how the director never allows cynicism to override his humanism, it reminds me of Shohei Imamura's The Profound Desires of the Gods. When, in a dream scene, Alexei tears through the planks of a door on which is plastered a propaganda poster of Stalin to reach out at his (dead) father as he vanishes in the fog, the movie hints at the betrayal of the Soviet Dream, or better yet, at all the things lost in the revolution, this betrayal made more explicit in the film's fiery denouement. The amazing visuals, elegiac and somber with a raw naturalist edge, help seal the deal. By the end of it, an oil derric erupts in flames and the movie erupts in a wild explosion of pure cinema.\n",
      "\n",
      "-------\n",
      "\n",
      "Sentiment: 1 (Negative)\n",
      "Review:\n",
      "What was the aim here...I started to have a look at it but then I realized that it had no aim...poor acting...no action and no story..i ended up listening to it while i was surfing the web reading about David Beckham's $250 million dollar US soccer Galaxy contract. Do not rent this Don't borrow this NOT WORTH A DOWN LOAD i've seen so many films that I could sense that this was going to be crap from the get go.<br /><br />War films should be accurate and if possible have some artistic merit and actually not feel like Christian melodrama...This film pales in comparison to any that i've seen before.I must say that Iam truly disappointed at this film..\n",
      "\n",
      "-------\n",
      "\n",
      "Sentiment: 0 (Positive)\n",
      "Review:\n",
      "\"Please, don't kill me! I'm just an actor!\" \"Can you play dead?\" It's difficult to describe this show. It's like a crime dramedy. Where the bad cop is an ass. Literally. What's great about the show is some of Assy's perfectly awful one-liners. Cracking out such gems as \"Adios, Blimp,\" Assy Mcgee provides some great laughs at points. Sadly at other times, the show seems to drag along at a slow pace, making it almost hard to watch. This is definitely the kind of show you'll love or hate, there's essentially no middleman. It's not the best show on {Adult Swim}, but it has some strong points. It's worth looking into just to see if you enjoy it. I know I did.\n",
      "\n",
      "-------\n",
      "\n",
      "Sentiment: 0 (Positive)\n",
      "Review:\n",
      "Hilarious, Sellers at his funniest ... a shame you can't get this on video, or even see it on TV anymore ... I'd love to get a good copy somewhere. Maybe it's tied up in court on some legal issue, but a truly riotous hospital farce with Sellers as crooked administrator.\n",
      "\n",
      "-------\n",
      "\n"
     ]
    }
   ],
   "source": [
    "# View the random 5 reviews\n",
    "random_reviews = df.sample(5)\n",
    "\n",
    "for _,row in random_reviews.iterrows():\n",
    "    sentiment = row['sentiment']\n",
    "    print(f'Sentiment: {sentiment}', '(Positive)' if sentiment == 0 else '(Negative)')\n",
    "    print(f'Review:\\n{row['review']}\\n')\n",
    "    print('-------\\n')"
   ]
  },
  {
   "cell_type": "code",
   "execution_count": 14,
   "id": "16e3f998-c559-42b4-b402-7643bd63b3c4",
   "metadata": {},
   "outputs": [],
   "source": [
    "# defining a function that handle's contractions\n",
    "def expand_contractions(text):\n",
    "    return contractions.fix(text)"
   ]
  },
  {
   "cell_type": "code",
   "execution_count": 15,
   "id": "b8a15cec-7615-475c-88b0-00ca2161bcbb",
   "metadata": {},
   "outputs": [
    {
     "data": {
      "text/html": [
       "<div>\n",
       "<style scoped>\n",
       "    .dataframe tbody tr th:only-of-type {\n",
       "        vertical-align: middle;\n",
       "    }\n",
       "\n",
       "    .dataframe tbody tr th {\n",
       "        vertical-align: top;\n",
       "    }\n",
       "\n",
       "    .dataframe thead th {\n",
       "        text-align: right;\n",
       "    }\n",
       "</style>\n",
       "<table border=\"1\" class=\"dataframe\">\n",
       "  <thead>\n",
       "    <tr style=\"text-align: right;\">\n",
       "      <th></th>\n",
       "      <th>review</th>\n",
       "      <th>exanded_review</th>\n",
       "    </tr>\n",
       "  </thead>\n",
       "  <tbody>\n",
       "    <tr>\n",
       "      <th>0</th>\n",
       "      <td>One of the other reviewers has mentioned that ...</td>\n",
       "      <td>One of the other reviewers has mentioned that ...</td>\n",
       "    </tr>\n",
       "    <tr>\n",
       "      <th>1</th>\n",
       "      <td>A wonderful little production. &lt;br /&gt;&lt;br /&gt;The...</td>\n",
       "      <td>A wonderful little production. &lt;br /&gt;&lt;br /&gt;The...</td>\n",
       "    </tr>\n",
       "    <tr>\n",
       "      <th>2</th>\n",
       "      <td>I thought this was a wonderful way to spend ti...</td>\n",
       "      <td>I thought this was a wonderful way to spend ti...</td>\n",
       "    </tr>\n",
       "    <tr>\n",
       "      <th>3</th>\n",
       "      <td>Basically there's a family where a little boy ...</td>\n",
       "      <td>Basically there is a family where a little boy...</td>\n",
       "    </tr>\n",
       "    <tr>\n",
       "      <th>4</th>\n",
       "      <td>Petter Mattei's \"Love in the Time of Money\" is...</td>\n",
       "      <td>Petter Mattei's \"Love in the Time of Money\" is...</td>\n",
       "    </tr>\n",
       "    <tr>\n",
       "      <th>...</th>\n",
       "      <td>...</td>\n",
       "      <td>...</td>\n",
       "    </tr>\n",
       "    <tr>\n",
       "      <th>49995</th>\n",
       "      <td>I thought this movie did a down right good job...</td>\n",
       "      <td>I thought this movie did a down right good job...</td>\n",
       "    </tr>\n",
       "    <tr>\n",
       "      <th>49996</th>\n",
       "      <td>Bad plot, bad dialogue, bad acting, idiotic di...</td>\n",
       "      <td>Bad plot, bad dialogue, bad acting, idiotic di...</td>\n",
       "    </tr>\n",
       "    <tr>\n",
       "      <th>49997</th>\n",
       "      <td>I am a Catholic taught in parochial elementary...</td>\n",
       "      <td>I am a Catholic taught in parochial elementary...</td>\n",
       "    </tr>\n",
       "    <tr>\n",
       "      <th>49998</th>\n",
       "      <td>I'm going to have to disagree with the previou...</td>\n",
       "      <td>I am going to have to disagree with the previo...</td>\n",
       "    </tr>\n",
       "    <tr>\n",
       "      <th>49999</th>\n",
       "      <td>No one expects the Star Trek movies to be high...</td>\n",
       "      <td>No one expects the Star Trek movies to be high...</td>\n",
       "    </tr>\n",
       "  </tbody>\n",
       "</table>\n",
       "<p>49582 rows × 2 columns</p>\n",
       "</div>"
      ],
      "text/plain": [
       "                                                  review  \\\n",
       "0      One of the other reviewers has mentioned that ...   \n",
       "1      A wonderful little production. <br /><br />The...   \n",
       "2      I thought this was a wonderful way to spend ti...   \n",
       "3      Basically there's a family where a little boy ...   \n",
       "4      Petter Mattei's \"Love in the Time of Money\" is...   \n",
       "...                                                  ...   \n",
       "49995  I thought this movie did a down right good job...   \n",
       "49996  Bad plot, bad dialogue, bad acting, idiotic di...   \n",
       "49997  I am a Catholic taught in parochial elementary...   \n",
       "49998  I'm going to have to disagree with the previou...   \n",
       "49999  No one expects the Star Trek movies to be high...   \n",
       "\n",
       "                                          exanded_review  \n",
       "0      One of the other reviewers has mentioned that ...  \n",
       "1      A wonderful little production. <br /><br />The...  \n",
       "2      I thought this was a wonderful way to spend ti...  \n",
       "3      Basically there is a family where a little boy...  \n",
       "4      Petter Mattei's \"Love in the Time of Money\" is...  \n",
       "...                                                  ...  \n",
       "49995  I thought this movie did a down right good job...  \n",
       "49996  Bad plot, bad dialogue, bad acting, idiotic di...  \n",
       "49997  I am a Catholic taught in parochial elementary...  \n",
       "49998  I am going to have to disagree with the previo...  \n",
       "49999  No one expects the Star Trek movies to be high...  \n",
       "\n",
       "[49582 rows x 2 columns]"
      ]
     },
     "execution_count": 15,
     "metadata": {},
     "output_type": "execute_result"
    }
   ],
   "source": [
    "df['exanded_review'] = df['review'].apply(expand_contractions)\n",
    "df[['review','exanded_review']]"
   ]
  },
  {
   "cell_type": "code",
   "execution_count": 16,
   "id": "f1bddc7a-0ecb-4389-a46d-b11c2d99f753",
   "metadata": {},
   "outputs": [
    {
     "data": {
      "text/html": [
       "<div>\n",
       "<style scoped>\n",
       "    .dataframe tbody tr th:only-of-type {\n",
       "        vertical-align: middle;\n",
       "    }\n",
       "\n",
       "    .dataframe tbody tr th {\n",
       "        vertical-align: top;\n",
       "    }\n",
       "\n",
       "    .dataframe thead th {\n",
       "        text-align: right;\n",
       "    }\n",
       "</style>\n",
       "<table border=\"1\" class=\"dataframe\">\n",
       "  <thead>\n",
       "    <tr style=\"text-align: right;\">\n",
       "      <th></th>\n",
       "      <th>review</th>\n",
       "      <th>sentiment</th>\n",
       "      <th>word_counts</th>\n",
       "      <th>exanded_review</th>\n",
       "      <th>expanded_word_counts_</th>\n",
       "    </tr>\n",
       "  </thead>\n",
       "  <tbody>\n",
       "    <tr>\n",
       "      <th>0</th>\n",
       "      <td>One of the other reviewers has mentioned that ...</td>\n",
       "      <td>0</td>\n",
       "      <td>307</td>\n",
       "      <td>One of the other reviewers has mentioned that ...</td>\n",
       "      <td>314</td>\n",
       "    </tr>\n",
       "    <tr>\n",
       "      <th>1</th>\n",
       "      <td>A wonderful little production. &lt;br /&gt;&lt;br /&gt;The...</td>\n",
       "      <td>0</td>\n",
       "      <td>162</td>\n",
       "      <td>A wonderful little production. &lt;br /&gt;&lt;br /&gt;The...</td>\n",
       "      <td>162</td>\n",
       "    </tr>\n",
       "    <tr>\n",
       "      <th>2</th>\n",
       "      <td>I thought this was a wonderful way to spend ti...</td>\n",
       "      <td>0</td>\n",
       "      <td>166</td>\n",
       "      <td>I thought this was a wonderful way to spend ti...</td>\n",
       "      <td>168</td>\n",
       "    </tr>\n",
       "    <tr>\n",
       "      <th>3</th>\n",
       "      <td>Basically there's a family where a little boy ...</td>\n",
       "      <td>1</td>\n",
       "      <td>138</td>\n",
       "      <td>Basically there is a family where a little boy...</td>\n",
       "      <td>141</td>\n",
       "    </tr>\n",
       "    <tr>\n",
       "      <th>4</th>\n",
       "      <td>Petter Mattei's \"Love in the Time of Money\" is...</td>\n",
       "      <td>0</td>\n",
       "      <td>230</td>\n",
       "      <td>Petter Mattei's \"Love in the Time of Money\" is...</td>\n",
       "      <td>230</td>\n",
       "    </tr>\n",
       "  </tbody>\n",
       "</table>\n",
       "</div>"
      ],
      "text/plain": [
       "                                              review  sentiment  word_counts  \\\n",
       "0  One of the other reviewers has mentioned that ...          0          307   \n",
       "1  A wonderful little production. <br /><br />The...          0          162   \n",
       "2  I thought this was a wonderful way to spend ti...          0          166   \n",
       "3  Basically there's a family where a little boy ...          1          138   \n",
       "4  Petter Mattei's \"Love in the Time of Money\" is...          0          230   \n",
       "\n",
       "                                      exanded_review  expanded_word_counts_  \n",
       "0  One of the other reviewers has mentioned that ...                    314  \n",
       "1  A wonderful little production. <br /><br />The...                    162  \n",
       "2  I thought this was a wonderful way to spend ti...                    168  \n",
       "3  Basically there is a family where a little boy...                    141  \n",
       "4  Petter Mattei's \"Love in the Time of Money\" is...                    230  "
      ]
     },
     "execution_count": 16,
     "metadata": {},
     "output_type": "execute_result"
    }
   ],
   "source": [
    "# Creating the word count column\n",
    "df['expanded_word_counts_'] = df['exanded_review'].apply(lambda x:len(x.split()))\n",
    "df.head()"
   ]
  },
  {
   "cell_type": "code",
   "execution_count": 17,
   "id": "37be9bb3-2b0b-4af4-a36a-57bad5531558",
   "metadata": {},
   "outputs": [],
   "source": [
    "def clean_text(text):\n",
    "    def hmtl_tags_removal(text):\n",
    "        clean = re.compile('<.*?>')\n",
    "        return re.sub(clean, '', text)\n",
    "\n",
    "    txt = text.lower()\n",
    "    txt = hmtl_tags_removal(txt)\n",
    "    tokens = word_tokenize(txt)\n",
    "    stemm = PorterStemmer()\n",
    "    stop_words = set(stopwords.words('english'))\n",
    "    stemmed_tokens = [stemm.stem(token) for token in tokens if token not in stop_words]\n",
    "\n",
    "    clean_text = \" \".join(stemmed_tokens)\n",
    "    return clean_text"
   ]
  },
  {
   "cell_type": "code",
   "execution_count": 18,
   "id": "46c0b255-3b4f-44e3-adf0-e690f58a3cf1",
   "metadata": {},
   "outputs": [
    {
     "name": "stderr",
     "output_type": "stream",
     "text": [
      "[nltk_data] Downloading package punkt to\n",
      "[nltk_data]     C:\\Users\\User\\AppData\\Roaming\\nltk_data...\n",
      "[nltk_data]   Package punkt is already up-to-date!\n"
     ]
    },
    {
     "data": {
      "text/plain": [
       "True"
      ]
     },
     "execution_count": 18,
     "metadata": {},
     "output_type": "execute_result"
    }
   ],
   "source": [
    "import nltk\n",
    "nltk.download('punkt')"
   ]
  },
  {
   "cell_type": "code",
   "execution_count": 19,
   "id": "1e99c3a6-662d-40c6-bad2-3b5337df8ff9",
   "metadata": {},
   "outputs": [
    {
     "data": {
      "text/html": [
       "<div>\n",
       "<style scoped>\n",
       "    .dataframe tbody tr th:only-of-type {\n",
       "        vertical-align: middle;\n",
       "    }\n",
       "\n",
       "    .dataframe tbody tr th {\n",
       "        vertical-align: top;\n",
       "    }\n",
       "\n",
       "    .dataframe thead th {\n",
       "        text-align: right;\n",
       "    }\n",
       "</style>\n",
       "<table border=\"1\" class=\"dataframe\">\n",
       "  <thead>\n",
       "    <tr style=\"text-align: right;\">\n",
       "      <th></th>\n",
       "      <th>review</th>\n",
       "      <th>sentiment</th>\n",
       "      <th>word_counts</th>\n",
       "      <th>exanded_review</th>\n",
       "      <th>expanded_word_counts_</th>\n",
       "      <th>clean_text</th>\n",
       "    </tr>\n",
       "  </thead>\n",
       "  <tbody>\n",
       "    <tr>\n",
       "      <th>0</th>\n",
       "      <td>One of the other reviewers has mentioned that ...</td>\n",
       "      <td>0</td>\n",
       "      <td>307</td>\n",
       "      <td>One of the other reviewers has mentioned that ...</td>\n",
       "      <td>314</td>\n",
       "      <td>one review mention watch 1 oz episod hook . ri...</td>\n",
       "    </tr>\n",
       "    <tr>\n",
       "      <th>1</th>\n",
       "      <td>A wonderful little production. &lt;br /&gt;&lt;br /&gt;The...</td>\n",
       "      <td>0</td>\n",
       "      <td>162</td>\n",
       "      <td>A wonderful little production. &lt;br /&gt;&lt;br /&gt;The...</td>\n",
       "      <td>162</td>\n",
       "      <td>wonder littl product . film techniqu unassumin...</td>\n",
       "    </tr>\n",
       "    <tr>\n",
       "      <th>2</th>\n",
       "      <td>I thought this was a wonderful way to spend ti...</td>\n",
       "      <td>0</td>\n",
       "      <td>166</td>\n",
       "      <td>I thought this was a wonderful way to spend ti...</td>\n",
       "      <td>168</td>\n",
       "      <td>thought wonder way spend time hot summer weeke...</td>\n",
       "    </tr>\n",
       "    <tr>\n",
       "      <th>3</th>\n",
       "      <td>Basically there's a family where a little boy ...</td>\n",
       "      <td>1</td>\n",
       "      <td>138</td>\n",
       "      <td>Basically there is a family where a little boy...</td>\n",
       "      <td>141</td>\n",
       "      <td>basic famili littl boy ( jake ) think zombi cl...</td>\n",
       "    </tr>\n",
       "    <tr>\n",
       "      <th>4</th>\n",
       "      <td>Petter Mattei's \"Love in the Time of Money\" is...</td>\n",
       "      <td>0</td>\n",
       "      <td>230</td>\n",
       "      <td>Petter Mattei's \"Love in the Time of Money\" is...</td>\n",
       "      <td>230</td>\n",
       "      <td>petter mattei 's `` love time money '' visual ...</td>\n",
       "    </tr>\n",
       "  </tbody>\n",
       "</table>\n",
       "</div>"
      ],
      "text/plain": [
       "                                              review  sentiment  word_counts  \\\n",
       "0  One of the other reviewers has mentioned that ...          0          307   \n",
       "1  A wonderful little production. <br /><br />The...          0          162   \n",
       "2  I thought this was a wonderful way to spend ti...          0          166   \n",
       "3  Basically there's a family where a little boy ...          1          138   \n",
       "4  Petter Mattei's \"Love in the Time of Money\" is...          0          230   \n",
       "\n",
       "                                      exanded_review  expanded_word_counts_  \\\n",
       "0  One of the other reviewers has mentioned that ...                    314   \n",
       "1  A wonderful little production. <br /><br />The...                    162   \n",
       "2  I thought this was a wonderful way to spend ti...                    168   \n",
       "3  Basically there is a family where a little boy...                    141   \n",
       "4  Petter Mattei's \"Love in the Time of Money\" is...                    230   \n",
       "\n",
       "                                          clean_text  \n",
       "0  one review mention watch 1 oz episod hook . ri...  \n",
       "1  wonder littl product . film techniqu unassumin...  \n",
       "2  thought wonder way spend time hot summer weeke...  \n",
       "3  basic famili littl boy ( jake ) think zombi cl...  \n",
       "4  petter mattei 's `` love time money '' visual ...  "
      ]
     },
     "execution_count": 19,
     "metadata": {},
     "output_type": "execute_result"
    }
   ],
   "source": [
    "df['clean_text'] = df['exanded_review'].apply(clean_text)\n",
    "df.head()"
   ]
  },
  {
   "cell_type": "code",
   "execution_count": 20,
   "id": "9ab0303b-bca0-4059-8ddd-447617c8ba90",
   "metadata": {},
   "outputs": [
    {
     "data": {
      "text/plain": [
       "(\"wonder littl product . film techniqu unassuming- old-time-bbc fashion give comfort , sometim discomfort , sens realism entir piec . actor extrem well chosen- michael sheen `` got polari '' voic pat ! truli see seamless edit guid refer william ' diari entri , well worth watch terrificli written perform piec . master product one great master 's comedi life . realism realli come home littl thing : fantasi guard , rather use tradit 'dream ' techniqu remain solid disappear . play knowledg sens , particularli scene concern orton halliwel set ( particularli flat halliwel 's mural decor everi surfac ) terribl well done .\",\n",
       " 'A wonderful little production. <br /><br />The filming technique is very unassuming- very old-time-BBC fashion and gives a comforting, and sometimes discomforting, sense of realism to the entire piece. <br /><br />The actors are extremely well chosen- Michael Sheen not only \"has got all the polari\" but he has all the voices down pat too! You can truly see the seamless editing guided by the references to Williams\\' diary entries, not only is it well worth the watching but it is a terrificly written and performed piece. A masterful production about one of the great master\\'s of comedy and his life. <br /><br />The realism really comes home with the little things: the fantasy of the guard which, rather than use the traditional \\'dream\\' techniques remains solid then disappears. It plays on our knowledge and our senses, particularly with the scenes concerning Orton and Halliwell and the sets (particularly of their flat with Halliwell\\'s murals decorating every surface) are terribly well done.')"
      ]
     },
     "execution_count": 20,
     "metadata": {},
     "output_type": "execute_result"
    }
   ],
   "source": [
    "df.clean_text[1], df['review'][1]"
   ]
  },
  {
   "cell_type": "code",
   "execution_count": 21,
   "id": "8f39e7a3-5ba4-4979-8721-d55fd8ba3730",
   "metadata": {},
   "outputs": [],
   "source": [
    "df.to_csv('IMBD Cleand.csv', index= False)"
   ]
  },
  {
   "cell_type": "code",
   "execution_count": 22,
   "id": "8ed5fd4c-ae4e-4757-97bc-4b6998ef29ec",
   "metadata": {},
   "outputs": [
    {
     "data": {
      "text/html": [
       "<div>\n",
       "<style scoped>\n",
       "    .dataframe tbody tr th:only-of-type {\n",
       "        vertical-align: middle;\n",
       "    }\n",
       "\n",
       "    .dataframe tbody tr th {\n",
       "        vertical-align: top;\n",
       "    }\n",
       "\n",
       "    .dataframe thead th {\n",
       "        text-align: right;\n",
       "    }\n",
       "</style>\n",
       "<table border=\"1\" class=\"dataframe\">\n",
       "  <thead>\n",
       "    <tr style=\"text-align: right;\">\n",
       "      <th></th>\n",
       "      <th>review</th>\n",
       "      <th>sentiment</th>\n",
       "      <th>word_counts</th>\n",
       "      <th>exanded_review</th>\n",
       "      <th>expanded_word_counts_</th>\n",
       "      <th>clean_text</th>\n",
       "    </tr>\n",
       "  </thead>\n",
       "  <tbody>\n",
       "    <tr>\n",
       "      <th>0</th>\n",
       "      <td>One of the other reviewers has mentioned that ...</td>\n",
       "      <td>0</td>\n",
       "      <td>307</td>\n",
       "      <td>One of the other reviewers has mentioned that ...</td>\n",
       "      <td>314</td>\n",
       "      <td>one review mention watch 1 oz episod hook . ri...</td>\n",
       "    </tr>\n",
       "    <tr>\n",
       "      <th>1</th>\n",
       "      <td>A wonderful little production. &lt;br /&gt;&lt;br /&gt;The...</td>\n",
       "      <td>0</td>\n",
       "      <td>162</td>\n",
       "      <td>A wonderful little production. &lt;br /&gt;&lt;br /&gt;The...</td>\n",
       "      <td>162</td>\n",
       "      <td>wonder littl product . film techniqu unassumin...</td>\n",
       "    </tr>\n",
       "    <tr>\n",
       "      <th>2</th>\n",
       "      <td>I thought this was a wonderful way to spend ti...</td>\n",
       "      <td>0</td>\n",
       "      <td>166</td>\n",
       "      <td>I thought this was a wonderful way to spend ti...</td>\n",
       "      <td>168</td>\n",
       "      <td>thought wonder way spend time hot summer weeke...</td>\n",
       "    </tr>\n",
       "    <tr>\n",
       "      <th>3</th>\n",
       "      <td>Basically there's a family where a little boy ...</td>\n",
       "      <td>1</td>\n",
       "      <td>138</td>\n",
       "      <td>Basically there is a family where a little boy...</td>\n",
       "      <td>141</td>\n",
       "      <td>basic famili littl boy ( jake ) think zombi cl...</td>\n",
       "    </tr>\n",
       "    <tr>\n",
       "      <th>4</th>\n",
       "      <td>Petter Mattei's \"Love in the Time of Money\" is...</td>\n",
       "      <td>0</td>\n",
       "      <td>230</td>\n",
       "      <td>Petter Mattei's \"Love in the Time of Money\" is...</td>\n",
       "      <td>230</td>\n",
       "      <td>petter mattei 's `` love time money '' visual ...</td>\n",
       "    </tr>\n",
       "  </tbody>\n",
       "</table>\n",
       "</div>"
      ],
      "text/plain": [
       "                                              review  sentiment  word_counts  \\\n",
       "0  One of the other reviewers has mentioned that ...          0          307   \n",
       "1  A wonderful little production. <br /><br />The...          0          162   \n",
       "2  I thought this was a wonderful way to spend ti...          0          166   \n",
       "3  Basically there's a family where a little boy ...          1          138   \n",
       "4  Petter Mattei's \"Love in the Time of Money\" is...          0          230   \n",
       "\n",
       "                                      exanded_review  expanded_word_counts_  \\\n",
       "0  One of the other reviewers has mentioned that ...                    314   \n",
       "1  A wonderful little production. <br /><br />The...                    162   \n",
       "2  I thought this was a wonderful way to spend ti...                    168   \n",
       "3  Basically there is a family where a little boy...                    141   \n",
       "4  Petter Mattei's \"Love in the Time of Money\" is...                    230   \n",
       "\n",
       "                                          clean_text  \n",
       "0  one review mention watch 1 oz episod hook . ri...  \n",
       "1  wonder littl product . film techniqu unassumin...  \n",
       "2  thought wonder way spend time hot summer weeke...  \n",
       "3  basic famili littl boy ( jake ) think zombi cl...  \n",
       "4  petter mattei 's `` love time money '' visual ...  "
      ]
     },
     "execution_count": 22,
     "metadata": {},
     "output_type": "execute_result"
    }
   ],
   "source": [
    "df1 = pd.read_csv('IMBD Cleand.csv')\n",
    "df1.head()"
   ]
  },
  {
   "cell_type": "code",
   "execution_count": 23,
   "id": "0df0c4b1-2b02-4f3d-a2a2-c41b55cddb75",
   "metadata": {},
   "outputs": [
    {
     "data": {
      "text/html": [
       "<div>\n",
       "<style scoped>\n",
       "    .dataframe tbody tr th:only-of-type {\n",
       "        vertical-align: middle;\n",
       "    }\n",
       "\n",
       "    .dataframe tbody tr th {\n",
       "        vertical-align: top;\n",
       "    }\n",
       "\n",
       "    .dataframe thead th {\n",
       "        text-align: right;\n",
       "    }\n",
       "</style>\n",
       "<table border=\"1\" class=\"dataframe\">\n",
       "  <thead>\n",
       "    <tr style=\"text-align: right;\">\n",
       "      <th></th>\n",
       "      <th>clean_text</th>\n",
       "      <th>sentiment</th>\n",
       "    </tr>\n",
       "  </thead>\n",
       "  <tbody>\n",
       "    <tr>\n",
       "      <th>0</th>\n",
       "      <td>one review mention watch 1 oz episod hook . ri...</td>\n",
       "      <td>0</td>\n",
       "    </tr>\n",
       "    <tr>\n",
       "      <th>1</th>\n",
       "      <td>wonder littl product . film techniqu unassumin...</td>\n",
       "      <td>0</td>\n",
       "    </tr>\n",
       "    <tr>\n",
       "      <th>2</th>\n",
       "      <td>thought wonder way spend time hot summer weeke...</td>\n",
       "      <td>0</td>\n",
       "    </tr>\n",
       "    <tr>\n",
       "      <th>3</th>\n",
       "      <td>basic famili littl boy ( jake ) think zombi cl...</td>\n",
       "      <td>1</td>\n",
       "    </tr>\n",
       "    <tr>\n",
       "      <th>4</th>\n",
       "      <td>petter mattei 's `` love time money '' visual ...</td>\n",
       "      <td>0</td>\n",
       "    </tr>\n",
       "  </tbody>\n",
       "</table>\n",
       "</div>"
      ],
      "text/plain": [
       "                                          clean_text  sentiment\n",
       "0  one review mention watch 1 oz episod hook . ri...          0\n",
       "1  wonder littl product . film techniqu unassumin...          0\n",
       "2  thought wonder way spend time hot summer weeke...          0\n",
       "3  basic famili littl boy ( jake ) think zombi cl...          1\n",
       "4  petter mattei 's `` love time money '' visual ...          0"
      ]
     },
     "execution_count": 23,
     "metadata": {},
     "output_type": "execute_result"
    }
   ],
   "source": [
    "# creating a new dataframe with clean text and sentiment\n",
    "df1 = df1[['clean_text', 'sentiment']]\n",
    "df1.head()"
   ]
  },
  {
   "cell_type": "code",
   "execution_count": 24,
   "id": "cecdcdfd-32d2-43d9-b69e-42f7772b2a51",
   "metadata": {},
   "outputs": [
    {
     "data": {
      "text/html": [
       "<div>\n",
       "<style scoped>\n",
       "    .dataframe tbody tr th:only-of-type {\n",
       "        vertical-align: middle;\n",
       "    }\n",
       "\n",
       "    .dataframe tbody tr th {\n",
       "        vertical-align: top;\n",
       "    }\n",
       "\n",
       "    .dataframe thead th {\n",
       "        text-align: right;\n",
       "    }\n",
       "</style>\n",
       "<table border=\"1\" class=\"dataframe\">\n",
       "  <thead>\n",
       "    <tr style=\"text-align: right;\">\n",
       "      <th></th>\n",
       "      <th>clean_text</th>\n",
       "      <th>sentiment</th>\n",
       "      <th>Clean_word_counts</th>\n",
       "    </tr>\n",
       "  </thead>\n",
       "  <tbody>\n",
       "    <tr>\n",
       "      <th>0</th>\n",
       "      <td>one review mention watch 1 oz episod hook . ri...</td>\n",
       "      <td>0</td>\n",
       "      <td>206</td>\n",
       "    </tr>\n",
       "    <tr>\n",
       "      <th>1</th>\n",
       "      <td>wonder littl product . film techniqu unassumin...</td>\n",
       "      <td>0</td>\n",
       "      <td>105</td>\n",
       "    </tr>\n",
       "    <tr>\n",
       "      <th>2</th>\n",
       "      <td>thought wonder way spend time hot summer weeke...</td>\n",
       "      <td>0</td>\n",
       "      <td>108</td>\n",
       "    </tr>\n",
       "    <tr>\n",
       "      <th>3</th>\n",
       "      <td>basic famili littl boy ( jake ) think zombi cl...</td>\n",
       "      <td>1</td>\n",
       "      <td>80</td>\n",
       "    </tr>\n",
       "    <tr>\n",
       "      <th>4</th>\n",
       "      <td>petter mattei 's `` love time money '' visual ...</td>\n",
       "      <td>0</td>\n",
       "      <td>151</td>\n",
       "    </tr>\n",
       "  </tbody>\n",
       "</table>\n",
       "</div>"
      ],
      "text/plain": [
       "                                          clean_text  sentiment  \\\n",
       "0  one review mention watch 1 oz episod hook . ri...          0   \n",
       "1  wonder littl product . film techniqu unassumin...          0   \n",
       "2  thought wonder way spend time hot summer weeke...          0   \n",
       "3  basic famili littl boy ( jake ) think zombi cl...          1   \n",
       "4  petter mattei 's `` love time money '' visual ...          0   \n",
       "\n",
       "   Clean_word_counts  \n",
       "0                206  \n",
       "1                105  \n",
       "2                108  \n",
       "3                 80  \n",
       "4                151  "
      ]
     },
     "execution_count": 24,
     "metadata": {},
     "output_type": "execute_result"
    }
   ],
   "source": [
    "df1['Clean_word_counts'] =  df1['clean_text'].apply(lambda x: len(x.split()))\n",
    "df1.head()"
   ]
  },
  {
   "cell_type": "code",
   "execution_count": 25,
   "id": "eb87e061-54f4-4115-a616-d8c5e0f093c9",
   "metadata": {},
   "outputs": [],
   "source": [
    "from sklearn.model_selection import train_test_split"
   ]
  },
  {
   "cell_type": "code",
   "execution_count": 26,
   "id": "3cfd4aa3-7c39-49b5-b5bd-ecef76ca07be",
   "metadata": {},
   "outputs": [],
   "source": [
    "X = df1['clean_text']\n",
    "y = df1['sentiment']"
   ]
  },
  {
   "cell_type": "code",
   "execution_count": 27,
   "id": "11f76dc7-de66-4839-842b-3d191211a718",
   "metadata": {},
   "outputs": [],
   "source": [
    "X_train, X_test, y_train, y_test = train_test_split(X,y, test_size=0.3, random_state=45)"
   ]
  },
  {
   "cell_type": "markdown",
   "id": "966f94ef-4a15-4f51-89b9-6c5704cabc80",
   "metadata": {},
   "source": [
    "## \n",
    "TF-IDF in NLP\n",
    "--\n",
    "TF-IDF stands for Term Frequency–Inverse Document Frequency. It is a popular statistical measure used in Natural Language Processing (NLP) and Information Retrieval to evaluate how important a word is to a document in a collection (or corpus). \n",
    "TF checks how many times a term appears.\n",
    "\n",
    "🔹 Components of TF-IDF\n",
    "Term Frequency (TF):\n",
    "Measures how often a term appears in a document.\n",
    "\n",
    "TF(𝑡,𝑑)=Number of times term 𝑡 appears in document 𝑑 /\n",
    "Total number of terms in document 𝑑\n",
    "--\n",
    "TF(t,d)= \n",
    "Total number of terms in document d\n",
    "Number of times term t appears in document d\n",
    "🔹 Why Use TF-IDF?\n",
    "\n",
    "Filters out common words (e.g., \"the\", \"is\", \"and\") that appear in almost all documents.\n",
    "Highlights meaningful and distinctive terms within a document.\n",
    "\n",
    "Helps in:\n",
    "--\n",
    "Document classification,\n",
    "Search engines (ranking documents),\n",
    "Text similarity and clustering,\n",
    "Keyword extraction"
   ]
  },
  {
   "cell_type": "code",
   "execution_count": 29,
   "id": "7b67a811-ee3d-43b1-ae17-e05bf356a943",
   "metadata": {},
   "outputs": [],
   "source": [
    "from sklearn.feature_extraction.text import TfidfVectorizer\n",
    "from sklearn.naive_bayes import MultinomialNB\n",
    "from sklearn.pipeline import Pipeline"
   ]
  },
  {
   "cell_type": "code",
   "execution_count": 30,
   "id": "9e5b033c-e3f0-42c5-8f5d-b9d946584609",
   "metadata": {},
   "outputs": [],
   "source": [
    "import datetime"
   ]
  },
  {
   "cell_type": "code",
   "execution_count": 31,
   "id": "a3e7616d-4c8e-49b8-a907-ea7fb590c56e",
   "metadata": {},
   "outputs": [
    {
     "name": "stdout",
     "output_type": "stream",
     "text": [
      "The Naive Bayes  Model took 0:00:08.147024 seconds to train\n"
     ]
    }
   ],
   "source": [
    "#Training the baseline Model\n",
    "start_time = datetime.datetime.now()\n",
    "baseline_model = Pipeline([\n",
    "                            (\"tfid\", TfidfVectorizer()),\n",
    "                            (\"clf\", MultinomialNB())\n",
    "])\n",
    "baseline_model.fit(X_train, y_train)\n",
    "stop_time = datetime.datetime.now()\n",
    "nb_training_time = stop_time - start_time\n",
    "print(f\"The Naive Bayes  Model took {nb_training_time} seconds to train\")"
   ]
  },
  {
   "cell_type": "markdown",
   "id": "a66bd9e5-707f-40ce-b6a3-4707f53d0af1",
   "metadata": {},
   "source": [
    "# Creating an Evaluation function"
   ]
  },
  {
   "cell_type": "code",
   "execution_count": 33,
   "id": "a0eade62-30dc-4ccf-bc8f-43662b87de2a",
   "metadata": {},
   "outputs": [],
   "source": [
    "from sklearn.metrics import accuracy_score, precision_recall_fscore_support\n",
    "def evaluator(y_test, y_pred):\n",
    "    \"\"\"\n",
    "    Calculate the model accuracy score, precision score, recalll score and f1 score\n",
    "    Args:\n",
    "    ------\n",
    "    y_tes = The actual labels in form of a 1D array\n",
    "    y_pred = The predicted labels in form of a 1D array\n",
    "    \n",
    "    Returns a dictionary of accuracy score, precision score, recalll score and f1 score. \n",
    "    \"\"\"\n",
    "    # Calaculating the accurcy score\n",
    "    model_accuracy = accuracy_score(y_test, y_pred) * 100\n",
    "    # Calaculating precision score, recall score and f1 score\n",
    "    model_precision, model_recall, model_f1_score, _ = precision_recall_fscore_support(y_test, y_pred, average=\"weighted\")\n",
    "\n",
    "    model_results = {\n",
    "        \"accuracy\": model_accuracy,\n",
    "        \"precision\": model_precision * 100,\n",
    "        \"recall\": model_recall * 100,\n",
    "        \"f1\": model_f1_score * 100\n",
    "    }\n",
    "    return model_results\n",
    "    "
   ]
  },
  {
   "cell_type": "code",
   "execution_count": 34,
   "id": "bde5cdf7-d2d4-4fd4-b0a3-116a99e8cc7a",
   "metadata": {},
   "outputs": [
    {
     "data": {
      "text/plain": [
       "{'accuracy': 86.03025210084033,\n",
       " 'precision': 86.03268593545793,\n",
       " 'recall': 86.03025210084033,\n",
       " 'f1': 86.0298763027932}"
      ]
     },
     "execution_count": 34,
     "metadata": {},
     "output_type": "execute_result"
    }
   ],
   "source": [
    "y_pred = baseline_model.predict(X_test)\n",
    "evaluator(y_test, y_pred)"
   ]
  },
  {
   "cell_type": "code",
   "execution_count": 35,
   "id": "a8e753da-6aaf-4b3e-8dad-8465aaf3ff74",
   "metadata": {},
   "outputs": [
    {
     "name": "stdout",
     "output_type": "stream",
     "text": [
      "['The movie looks awesome', 'The main character was annoying']\n",
      " is a positive review\n"
     ]
    }
   ],
   "source": [
    "review = [\"The movie looks awesome\", \"The main character was annoying\"]\n",
    "prediction = baseline_model.predict(review)\n",
    "if prediction [0] == 0:\n",
    "    print(f\"{review}\\n is a positive review\")\n",
    "else:\n",
    "        print(f\"{review}\\n is a nagative review\")"
   ]
  },
  {
   "cell_type": "code",
   "execution_count": 36,
   "id": "4e180985-5c50-4e65-923b-4ef64fd976f5",
   "metadata": {},
   "outputs": [
    {
     "name": "stdout",
     "output_type": "stream",
     "text": [
      "The customer service rep was incredibly helpful… in making me never want to call again.\n",
      " is a nagative review\n",
      "The movie looks awesome\n",
      " is a positive review\n",
      "The main character was annoying\n",
      " is a nagative review\n"
     ]
    }
   ],
   "source": [
    "review = [\"The customer service rep was incredibly helpful… in making me never want to call again.\", \"The movie looks awesome\", \n",
    "          \"The main character was annoying\"]\n",
    "prediction = baseline_model.predict(review)\n",
    "for i in range (len(prediction + 1)):\n",
    "    if prediction [i] == 0:\n",
    "        print(f\"{review[i]}\\n is a positive review\")\n",
    "    else:\n",
    "        print(f\"{review[i]}\\n is a nagative review\")"
   ]
  },
  {
   "cell_type": "code",
   "execution_count": 37,
   "id": "177b44b3-faf9-4b05-b479-001be201c838",
   "metadata": {},
   "outputs": [],
   "source": [
    "from sklearn.feature_extraction.text import CountVectorizer"
   ]
  },
  {
   "cell_type": "code",
   "execution_count": 38,
   "id": "a6a92dcd-0c84-4ecc-8864-9745b5d3982a",
   "metadata": {},
   "outputs": [
    {
     "name": "stdout",
     "output_type": "stream",
     "text": [
      "The Naive Bayes  Model took 0:00:07.869640 seconds to train\n"
     ]
    }
   ],
   "source": [
    "#Training the baseline Model using Countvectorizer\n",
    "start_time = datetime.datetime.now()\n",
    "first_model = Pipeline([\n",
    "                            (\"count\", CountVectorizer()),\n",
    "                            (\"clf_c\", MultinomialNB())\n",
    "])\n",
    "first_model.fit(X_train, y_train)\n",
    "stop_time = datetime.datetime.now()\n",
    "fm_training_time = stop_time - start_time\n",
    "print(f\"The Naive Bayes  Model took {fm_training_time} seconds to train\")"
   ]
  },
  {
   "cell_type": "code",
   "execution_count": 39,
   "id": "3ee6528e-54ab-420e-b9f9-2ffb2a88b7cb",
   "metadata": {},
   "outputs": [
    {
     "data": {
      "text/plain": [
       "{'accuracy': 85.25042016806724,\n",
       " 'precision': 85.28684780543416,\n",
       " 'recall': 85.25042016806724,\n",
       " 'f1': 85.24604701650715}"
      ]
     },
     "execution_count": 39,
     "metadata": {},
     "output_type": "execute_result"
    }
   ],
   "source": [
    "# Evaluating the model\n",
    "y_pred = first_model.predict(X_test)\n",
    "evaluator(y_test, y_pred)"
   ]
  },
  {
   "cell_type": "code",
   "execution_count": 40,
   "id": "080d3d22-6bd6-4aa9-953d-a70333ea5b88",
   "metadata": {},
   "outputs": [
    {
     "name": "stdout",
     "output_type": "stream",
     "text": [
      " The Naive Bayes model took 0:05:22.947186 seconds to train\n"
     ]
    }
   ],
   "source": [
    "# Training the model using randomforest algorithm\n",
    "from sklearn.ensemble import RandomForestClassifier\n",
    "# training the model using randomforestclassifier with TFIDFVectorizer\n",
    "start_time = datetime.datetime.now()\n",
    "randomforest_model = Pipeline([\n",
    "                            ('tfid', TfidfVectorizer()),\n",
    "                            (\"rdf\", RandomForestClassifier())\n",
    "])\n",
    "randomforest_model.fit(X_train, y_train)\n",
    "stop_time = datetime.datetime.now()\n",
    "rdf_training_time = stop_time - start_time\n",
    "print(f' The Naive Bayes model took {rdf_training_time} seconds to train')"
   ]
  },
  {
   "cell_type": "code",
   "execution_count": 41,
   "id": "720d51b6-5041-4cc3-a53f-47b8600425b8",
   "metadata": {},
   "outputs": [
    {
     "data": {
      "text/plain": [
       "{'accuracy': 84.75966386554622,\n",
       " 'precision': 84.81264046786464,\n",
       " 'recall': 84.75966386554622,\n",
       " 'f1': 84.75456218959737}"
      ]
     },
     "execution_count": 41,
     "metadata": {},
     "output_type": "execute_result"
    }
   ],
   "source": [
    "# Evaluating the model\n",
    "y_pred = randomforest_model.predict(X_test)\n",
    "evaluator(y_test, y_pred)"
   ]
  },
  {
   "cell_type": "code",
   "execution_count": 42,
   "id": "b8ae8c8e-8c44-45c0-b3f6-a75a0d6439a4",
   "metadata": {},
   "outputs": [
    {
     "name": "stdout",
     "output_type": "stream",
     "text": [
      " The Naive Bayes model took 0:06:05.328241 seconds to train\n"
     ]
    }
   ],
   "source": [
    "# training the model using randomforestclassifier with TFIDFVectorizer\n",
    "start_time = datetime.datetime.now()\n",
    "randomforest_model2 = Pipeline([\n",
    "                            (\"count\", CountVectorizer()),\n",
    "                            (\"rdf\", RandomForestClassifier())\n",
    "])\n",
    "randomforest_model2.fit(X_train, y_train)\n",
    "stop_time = datetime.datetime.now()\n",
    "rdf_training_time = stop_time - start_time\n",
    "print(f' The Naive Bayes model took {rdf_training_time} seconds to train')"
   ]
  },
  {
   "cell_type": "code",
   "execution_count": 43,
   "id": "e654a928-7be4-4e85-a89a-40ec08f73a95",
   "metadata": {},
   "outputs": [
    {
     "data": {
      "text/plain": [
       "{'accuracy': 84.83361344537815,\n",
       " 'precision': 84.89080252895185,\n",
       " 'recall': 84.83361344537815,\n",
       " 'f1': 84.82811703985021}"
      ]
     },
     "execution_count": 43,
     "metadata": {},
     "output_type": "execute_result"
    }
   ],
   "source": [
    "# Evaluating the model\n",
    "y_pred = randomforest_model2.predict(X_test)\n",
    "evaluator(y_test, y_pred)"
   ]
  }
 ],
 "metadata": {
  "kernelspec": {
   "display_name": "Python [conda env:base] *",
   "language": "python",
   "name": "conda-base-py"
  },
  "language_info": {
   "codemirror_mode": {
    "name": "ipython",
    "version": 3
   },
   "file_extension": ".py",
   "mimetype": "text/x-python",
   "name": "python",
   "nbconvert_exporter": "python",
   "pygments_lexer": "ipython3",
   "version": "3.12.9"
  }
 },
 "nbformat": 4,
 "nbformat_minor": 5
}
